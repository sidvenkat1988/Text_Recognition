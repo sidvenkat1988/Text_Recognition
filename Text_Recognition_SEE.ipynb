{
  "nbformat": 4,
  "nbformat_minor": 0,
  "metadata": {
    "colab": {
      "name": "Text_Recognition_SEE.ipynb",
      "version": "0.3.2",
      "provenance": [],
      "collapsed_sections": []
    },
    "kernelspec": {
      "name": "python3",
      "display_name": "Python 3"
    },
    "accelerator": "GPU"
  },
  "cells": [
    {
      "cell_type": "code",
      "metadata": {
        "id": "yLwW-KLxscpM",
        "colab_type": "code",
        "colab": {
          "base_uri": "https://localhost:8080/",
          "height": 102
        },
        "outputId": "99b2edc2-1646-4e28-920b-bd933c89507e"
      },
      "source": [
        "!git clone https://github.com/Bartzi/see.git"
      ],
      "execution_count": 1,
      "outputs": [
        {
          "output_type": "stream",
          "text": [
            "Cloning into 'see'...\n",
            "remote: Enumerating objects: 289, done.\u001b[K\n",
            "remote: Total 289 (delta 0), reused 0 (delta 0), pack-reused 289\u001b[K\n",
            "Receiving objects: 100% (289/289), 532.48 KiB | 712.00 KiB/s, done.\n",
            "Resolving deltas: 100% (139/139), done.\n"
          ],
          "name": "stdout"
        }
      ]
    },
    {
      "cell_type": "code",
      "metadata": {
        "id": "38iYSaoFsk0j",
        "colab_type": "code",
        "colab": {
          "base_uri": "https://localhost:8080/",
          "height": 34
        },
        "outputId": "2ac6bbe3-d462-4ca1-99f1-9e3e821fadbd"
      },
      "source": [
        "%cd see"
      ],
      "execution_count": 1,
      "outputs": [
        {
          "output_type": "stream",
          "text": [
            "/content/see\n"
          ],
          "name": "stdout"
        }
      ]
    },
    {
      "cell_type": "code",
      "metadata": {
        "id": "YmmZXT1vsnuN",
        "colab_type": "code",
        "colab": {
          "base_uri": "https://localhost:8080/",
          "height": 46
        },
        "outputId": "efe586a5-f669-482a-825b-a7a3e304cfed"
      },
      "source": [
        "!pwd"
      ],
      "execution_count": 2,
      "outputs": [
        {
          "output_type": "stream",
          "text": [
            "/content/see\n"
          ],
          "name": "stdout"
        }
      ]
    },
    {
      "cell_type": "code",
      "metadata": {
        "id": "GGwSErqIso3n",
        "colab_type": "code",
        "colab": {
          "base_uri": "https://localhost:8080/",
          "height": 1000
        },
        "outputId": "eef707c5-d2ac-4dbf-db2a-8ec64b8bc297"
      },
      "source": [
        "!pip install -r requirements.txt"
      ],
      "execution_count": 4,
      "outputs": [
        {
          "output_type": "stream",
          "text": [
            "Collecting bleach==1.5.0 (from -r requirements.txt (line 1))\n",
            "  Downloading https://files.pythonhosted.org/packages/33/70/86c5fec937ea4964184d4d6c4f0b9551564f821e1c3575907639036d9b90/bleach-1.5.0-py2.py3-none-any.whl\n",
            "Collecting chainer==3.2.0 (from -r requirements.txt (line 2))\n",
            "\u001b[?25l  Downloading https://files.pythonhosted.org/packages/65/3c/77b5619565e5954bddf621a03ac83bc40c18a619db58ebe61e0557d94c38/chainer-3.2.0.tar.gz (347kB)\n",
            "\u001b[K     |████████████████████████████████| 348kB 4.2MB/s \n",
            "\u001b[?25hCollecting cupy==2.2.0 (from -r requirements.txt (line 3))\n",
            "\u001b[?25l  Downloading https://files.pythonhosted.org/packages/b8/2a/1d00603840f2e32a989c89042cbf1630bac8f4a32aacb05873287a334fc8/cupy-2.2.0.tar.gz (1.8MB)\n",
            "\u001b[K     |████████████████████████████████| 1.8MB 38.8MB/s \n",
            "\u001b[?25hRequirement already satisfied: cycler==0.10.0 in /usr/local/lib/python3.6/dist-packages (from -r requirements.txt (line 4)) (0.10.0)\n",
            "Collecting enum34==1.1.6 (from -r requirements.txt (line 5))\n",
            "  Downloading https://files.pythonhosted.org/packages/af/42/cb9355df32c69b553e72a2e28daee25d1611d2c0d9c272aa1d34204205b2/enum34-1.1.6-py3-none-any.whl\n",
            "Collecting fastrlock==0.3 (from -r requirements.txt (line 6))\n",
            "\u001b[?25l  Downloading https://files.pythonhosted.org/packages/fa/24/767ce4fe23af5a4b3dd229c0e3153a26c0a58331f8f89af324c761663c9c/fastrlock-0.3-cp36-cp36m-manylinux1_x86_64.whl (77kB)\n",
            "\u001b[K     |████████████████████████████████| 81kB 23.6MB/s \n",
            "\u001b[?25hCollecting filelock==2.0.13 (from -r requirements.txt (line 7))\n",
            "  Downloading https://files.pythonhosted.org/packages/45/4c/810fb0481b80766fd731981f93ce298fe36e4955ab7524ae66836499d743/filelock-2.0.13.tar.gz\n",
            "Collecting h5py==2.7.1 (from -r requirements.txt (line 8))\n",
            "\u001b[?25l  Downloading https://files.pythonhosted.org/packages/f2/b8/a63fcc840bba5c76e453dd712dbca63178a264c8990e0086b72965d4e954/h5py-2.7.1-cp36-cp36m-manylinux1_x86_64.whl (5.4MB)\n",
            "\u001b[K     |████████████████████████████████| 5.4MB 31.6MB/s \n",
            "\u001b[?25hCollecting html5lib==0.9999999 (from -r requirements.txt (line 9))\n",
            "\u001b[?25l  Downloading https://files.pythonhosted.org/packages/ae/ae/bcb60402c60932b32dfaf19bb53870b29eda2cd17551ba5639219fb5ebf9/html5lib-0.9999999.tar.gz (889kB)\n",
            "\u001b[K     |████████████████████████████████| 890kB 40.8MB/s \n",
            "\u001b[?25hCollecting Markdown==2.6.10 (from -r requirements.txt (line 10))\n",
            "\u001b[?25l  Downloading https://files.pythonhosted.org/packages/f0/68/d7d5503adbd302fb8e44c8ece2b8afff467a888efb8a0a116c432cc4f4fe/Markdown-2.6.10.zip (414kB)\n",
            "\u001b[K     |████████████████████████████████| 419kB 22.5MB/s \n",
            "\u001b[?25hCollecting matplotlib==2.1.1 (from -r requirements.txt (line 11))\n",
            "\u001b[?25l  Downloading https://files.pythonhosted.org/packages/34/50/d1649dafaecc91e360b1ca8defebb25f865e29928a98bc7d42ba3b1350e5/matplotlib-2.1.1-cp36-cp36m-manylinux1_x86_64.whl (15.0MB)\n",
            "\u001b[K     |████████████████████████████████| 15.0MB 25.6MB/s \n",
            "\u001b[?25hCollecting numpy==1.13.3 (from -r requirements.txt (line 12))\n",
            "\u001b[?25l  Downloading https://files.pythonhosted.org/packages/57/a7/e3e6bd9d595125e1abbe162e323fd2d06f6f6683185294b79cd2cdb190d5/numpy-1.13.3-cp36-cp36m-manylinux1_x86_64.whl (17.0MB)\n",
            "\u001b[K     |████████████████████████████████| 17.0MB 28.8MB/s \n",
            "\u001b[?25hCollecting olefile==0.44 (from -r requirements.txt (line 13))\n",
            "\u001b[?25l  Downloading https://files.pythonhosted.org/packages/35/17/c15d41d5a8f8b98cc3df25eb00c5cee76193114c78e5674df6ef4ac92647/olefile-0.44.zip (74kB)\n",
            "\u001b[K     |████████████████████████████████| 81kB 26.7MB/s \n",
            "\u001b[?25hRequirement already satisfied: Pillow==4.3.0 in /usr/local/lib/python3.6/dist-packages (from -r requirements.txt (line 14)) (4.3.0)\n",
            "Collecting protobuf==3.5.0.post1 (from -r requirements.txt (line 15))\n",
            "\u001b[?25l  Downloading https://files.pythonhosted.org/packages/98/74/0df1aeb6fdda6a62ebd2f73bdb622683f5a31701ea0935db7699e0d42b09/protobuf-3.5.0.post1-cp36-cp36m-manylinux1_x86_64.whl (6.4MB)\n",
            "\u001b[K     |████████████████████████████████| 6.4MB 25.4MB/s \n",
            "\u001b[?25hCollecting pyparsing==2.2.0 (from -r requirements.txt (line 16))\n",
            "\u001b[?25l  Downloading https://files.pythonhosted.org/packages/6a/8a/718fd7d3458f9fab8e67186b00abdd345b639976bc7fb3ae722e1b026a50/pyparsing-2.2.0-py2.py3-none-any.whl (56kB)\n",
            "\u001b[K     |████████████████████████████████| 61kB 24.6MB/s \n",
            "\u001b[?25hCollecting python-dateutil==2.6.1 (from -r requirements.txt (line 17))\n",
            "\u001b[?25l  Downloading https://files.pythonhosted.org/packages/4b/0d/7ed381ab4fe80b8ebf34411d14f253e1cf3e56e2820ffa1d8844b23859a2/python_dateutil-2.6.1-py2.py3-none-any.whl (194kB)\n",
            "\u001b[K     |████████████████████████████████| 194kB 48.7MB/s \n",
            "\u001b[?25hCollecting pytz==2017.3 (from -r requirements.txt (line 18))\n",
            "\u001b[?25l  Downloading https://files.pythonhosted.org/packages/a3/7f/e7d1acbd433b929168a4fb4182a2ff3c33653717195a26c1de099ad1ef29/pytz-2017.3-py2.py3-none-any.whl (511kB)\n",
            "\u001b[K     |████████████████████████████████| 512kB 40.1MB/s \n",
            "\u001b[?25hCollecting six==1.11.0 (from -r requirements.txt (line 19))\n",
            "  Downloading https://files.pythonhosted.org/packages/67/4b/141a581104b1f6397bfa78ac9d43d8ad29a7ca43ea90a2d863fe3056e86a/six-1.11.0-py2.py3-none-any.whl\n",
            "Collecting tensorflow==1.4.1 (from -r requirements.txt (line 20))\n",
            "\u001b[?25l  Downloading https://files.pythonhosted.org/packages/8c/b3/dba1a3e681a56d5ad63d3a1aa02b52294bdb3c6373245a67c1492a90cb62/tensorflow-1.4.1-cp36-cp36m-manylinux1_x86_64.whl (41.2MB)\n",
            "\u001b[K     |████████████████████████████████| 41.2MB 2.0MB/s \n",
            "\u001b[?25hCollecting tensorflow-tensorboard==0.4.0rc3 (from -r requirements.txt (line 21))\n",
            "\u001b[?25l  Downloading https://files.pythonhosted.org/packages/68/82/6b00646b7275c3da90107333df7fbecaae72a9bfd3139fedd11686084d90/tensorflow_tensorboard-0.4.0rc3-py3-none-any.whl (1.7MB)\n",
            "\u001b[K     |████████████████████████████████| 1.7MB 30.4MB/s \n",
            "\u001b[?25hCollecting tqdm==4.19.5 (from -r requirements.txt (line 22))\n",
            "\u001b[?25l  Downloading https://files.pythonhosted.org/packages/71/3c/341b4fa23cb3abc335207dba057c790f3bb329f6757e1fcd5d347bcf8308/tqdm-4.19.5-py2.py3-none-any.whl (51kB)\n",
            "\u001b[K     |████████████████████████████████| 61kB 25.1MB/s \n",
            "\u001b[?25hCollecting Werkzeug==0.13 (from -r requirements.txt (line 23))\n",
            "\u001b[?25l  Downloading https://files.pythonhosted.org/packages/e7/dc/e41d4d6adf0cd3f02b0bdf02fcddee77a2ef02c0b1d5eaa517308333d673/Werkzeug-0.13-py2.py3-none-any.whl (311kB)\n",
            "\u001b[K     |████████████████████████████████| 317kB 33.3MB/s \n",
            "\u001b[?25hCollecting chainerui==0.3.0 (from -r requirements.txt (line 24))\n",
            "\u001b[?25l  Downloading https://files.pythonhosted.org/packages/4e/40/bf2d19a73887f7141072b03b0f68ea41c7ed2e9573efec2be395b1808e30/chainerui-0.3.0.tar.gz (463kB)\n",
            "\u001b[K     |████████████████████████████████| 471kB 29.0MB/s \n",
            "\u001b[?25hRequirement already satisfied: setuptools in /usr/local/lib/python3.6/dist-packages (from protobuf==3.5.0.post1->-r requirements.txt (line 15)) (41.2.0)\n",
            "Requirement already satisfied: wheel>=0.26 in /usr/local/lib/python3.6/dist-packages (from tensorflow==1.4.1->-r requirements.txt (line 20)) (0.33.4)\n",
            "Requirement already satisfied: msgpack>=0.5.1 in /usr/local/lib/python3.6/dist-packages (from chainerui==0.3.0->-r requirements.txt (line 24)) (0.5.6)\n",
            "Requirement already satisfied: Flask>=0.12.2 in /usr/local/lib/python3.6/dist-packages (from chainerui==0.3.0->-r requirements.txt (line 24)) (1.1.1)\n",
            "Collecting APScheduler>=3.3.1 (from chainerui==0.3.0->-r requirements.txt (line 24))\n",
            "\u001b[?25l  Downloading https://files.pythonhosted.org/packages/09/ff/d5b0e81846cd5e92d02e5f2682b78c73a5d9d61bc1eae32cea5ac15c0d47/APScheduler-3.6.1-py2.py3-none-any.whl (58kB)\n",
            "\u001b[K     |████████████████████████████████| 61kB 25.1MB/s \n",
            "\u001b[?25hRequirement already satisfied: sqlalchemy>=1.1.14 in /usr/local/lib/python3.6/dist-packages (from chainerui==0.3.0->-r requirements.txt (line 24)) (1.3.6)\n",
            "Collecting alembic>=0.9.5 (from chainerui==0.3.0->-r requirements.txt (line 24))\n",
            "\u001b[?25l  Downloading https://files.pythonhosted.org/packages/9a/0f/a5e8997d58882da8ecd288360dddf133a83145de6480216774923b393422/alembic-1.1.0.tar.gz (1.0MB)\n",
            "\u001b[K     |████████████████████████████████| 1.0MB 36.8MB/s \n",
            "\u001b[?25hRequirement already satisfied: itsdangerous>=0.24 in /usr/local/lib/python3.6/dist-packages (from Flask>=0.12.2->chainerui==0.3.0->-r requirements.txt (line 24)) (1.1.0)\n",
            "Requirement already satisfied: Jinja2>=2.10.1 in /usr/local/lib/python3.6/dist-packages (from Flask>=0.12.2->chainerui==0.3.0->-r requirements.txt (line 24)) (2.10.1)\n",
            "Requirement already satisfied: click>=5.1 in /usr/local/lib/python3.6/dist-packages (from Flask>=0.12.2->chainerui==0.3.0->-r requirements.txt (line 24)) (7.0)\n",
            "Requirement already satisfied: tzlocal>=1.2 in /usr/local/lib/python3.6/dist-packages (from APScheduler>=3.3.1->chainerui==0.3.0->-r requirements.txt (line 24)) (1.5.1)\n",
            "Collecting Mako (from alembic>=0.9.5->chainerui==0.3.0->-r requirements.txt (line 24))\n",
            "\u001b[?25l  Downloading https://files.pythonhosted.org/packages/b0/3c/8dcd6883d009f7cae0f3157fb53e9afb05a0d3d33b3db1268ec2e6f4a56b/Mako-1.1.0.tar.gz (463kB)\n",
            "\u001b[K     |████████████████████████████████| 471kB 41.0MB/s \n",
            "\u001b[?25hCollecting python-editor>=0.3 (from alembic>=0.9.5->chainerui==0.3.0->-r requirements.txt (line 24))\n",
            "  Downloading https://files.pythonhosted.org/packages/c6/d3/201fc3abe391bbae6606e6f1d598c15d367033332bd54352b12f35513717/python_editor-1.0.4-py3-none-any.whl\n",
            "Requirement already satisfied: MarkupSafe>=0.23 in /usr/local/lib/python3.6/dist-packages (from Jinja2>=2.10.1->Flask>=0.12.2->chainerui==0.3.0->-r requirements.txt (line 24)) (1.1.1)\n",
            "Building wheels for collected packages: chainer, cupy, filelock, html5lib, Markdown, olefile, chainerui, alembic, Mako\n",
            "  Building wheel for chainer (setup.py) ... \u001b[?25l\u001b[?25hdone\n",
            "  Created wheel for chainer: filename=chainer-3.2.0-cp36-none-any.whl size=524627 sha256=3cfbf01f604b37fc29b26bc4d151a92d9f67f54e362a1acde791230c089b9ca1\n",
            "  Stored in directory: /root/.cache/pip/wheels/d7/31/e1/7c54d16df95cb9e65cfd4fc3fef767601ead279c26c0a9cd84\n",
            "  Building wheel for cupy (setup.py) ... \u001b[?25l\u001b[?25hdone\n",
            "  Created wheel for cupy: filename=cupy-2.2.0-cp36-cp36m-linux_x86_64.whl size=13883130 sha256=7aa61805c51f786abf32d8c5bbc7349c68ba175af7eb688c124ae07efb358527\n",
            "  Stored in directory: /root/.cache/pip/wheels/77/12/04/685b68db7bcfb7b661ee2909d9e0587d931f9ce9096ac7c5ae\n",
            "  Building wheel for filelock (setup.py) ... \u001b[?25l\u001b[?25hdone\n",
            "  Created wheel for filelock: filename=filelock-2.0.13-cp36-none-any.whl size=7385 sha256=7060b74f29339463e37f7178f041a4c4f8ba6d87e8e69db811b5f56b52ec3a0b\n",
            "  Stored in directory: /root/.cache/pip/wheels/bf/cf/3b/1ae9cc96842a57f5960540b3a5a45008df4a3215e926d58983\n",
            "  Building wheel for html5lib (setup.py) ... \u001b[?25l\u001b[?25hdone\n",
            "  Created wheel for html5lib: filename=html5lib-0.9999999-cp36-none-any.whl size=107223 sha256=7d65f289de664788046bef250b2cf38e9985000cd21a0bbdb72b37fbd1ebd802\n",
            "  Stored in directory: /root/.cache/pip/wheels/50/ae/f9/d2b189788efcf61d1ee0e36045476735c838898eef1cad6e29\n",
            "  Building wheel for Markdown (setup.py) ... \u001b[?25l\u001b[?25hdone\n",
            "  Created wheel for Markdown: filename=Markdown-2.6.10-cp36-none-any.whl size=77091 sha256=858b0a8304f7a165e1ef90c8efa1031a87e8b1c96f1bda71a34e9a608761f407\n",
            "  Stored in directory: /root/.cache/pip/wheels/13/b1/c7/60d36fe0c9cf15b9b95c2dc8e4ba33acc782d275a13e8e95f1\n",
            "  Building wheel for olefile (setup.py) ... \u001b[?25l\u001b[?25hdone\n",
            "  Created wheel for olefile: filename=olefile-0.44-cp36-none-any.whl size=47816 sha256=a0f03a8a99e3774a7656190db285bdffd4c7d9db2d448170f1e65ab0e6873e9d\n",
            "  Stored in directory: /root/.cache/pip/wheels/c4/19/76/61fc7929d808e51567aff23036ca5fe6ba8336ad0559ca6a27\n",
            "  Building wheel for chainerui (setup.py) ... \u001b[?25l\u001b[?25hdone\n",
            "  Created wheel for chainerui: filename=chainerui-0.3.0-cp36-none-any.whl size=493649 sha256=c258424dca73ec30babd4bdf78a8514f886dad10c00808720abc9708d9e9884d\n",
            "  Stored in directory: /root/.cache/pip/wheels/a9/ce/67/b49823d18aa61aea31f61a35e4e8a63945e428b5827995bd57\n",
            "  Building wheel for alembic (setup.py) ... \u001b[?25l\u001b[?25hdone\n",
            "  Created wheel for alembic: filename=alembic-1.1.0-py2.py3-none-any.whl size=139444 sha256=cb0d2b3f1a59f01e8126d6d0d2416f92c5d85e4a1223a88152849db5432b044a\n",
            "  Stored in directory: /root/.cache/pip/wheels/0e/20/17/deeeea8d626ba5ca988fa4d4dd7c12cfbda0fbb3418a5010ff\n",
            "  Building wheel for Mako (setup.py) ... \u001b[?25l\u001b[?25hdone\n",
            "  Created wheel for Mako: filename=Mako-1.1.0-cp36-none-any.whl size=75361 sha256=10917b1848a7065ea93898d41527f998bdde94035348dc6cb0b6831d6892aaa3\n",
            "  Stored in directory: /root/.cache/pip/wheels/98/32/7b/a291926643fc1d1e02593e0d9e247c5a866a366b8343b7aa27\n",
            "Successfully built chainer cupy filelock html5lib Markdown olefile chainerui alembic Mako\n",
            "\u001b[31mERROR: tfds-nightly 1.1.0.dev201908090105 has requirement protobuf>=3.6.1, but you'll have protobuf 3.5.0.post1 which is incompatible.\u001b[0m\n",
            "\u001b[31mERROR: tensorflow-metadata 0.14.0 has requirement protobuf<4,>=3.7, but you'll have protobuf 3.5.0.post1 which is incompatible.\u001b[0m\n",
            "\u001b[31mERROR: tensorboard 1.14.0 has requirement protobuf>=3.6.0, but you'll have protobuf 3.5.0.post1 which is incompatible.\u001b[0m\n",
            "\u001b[31mERROR: stable-baselines 2.2.1 has requirement tensorflow>=1.5.0, but you'll have tensorflow 1.4.1 which is incompatible.\u001b[0m\n",
            "\u001b[31mERROR: spacy 2.1.8 has requirement numpy>=1.15.0, but you'll have numpy 1.13.3 which is incompatible.\u001b[0m\n",
            "\u001b[31mERROR: pyarrow 0.14.1 has requirement numpy>=1.14, but you'll have numpy 1.13.3 which is incompatible.\u001b[0m\n",
            "\u001b[31mERROR: plotnine 0.5.1 has requirement matplotlib>=3.0.0, but you'll have matplotlib 2.1.1 which is incompatible.\u001b[0m\n",
            "\u001b[31mERROR: magenta 0.3.19 has requirement tensorflow>=1.12.0, but you'll have tensorflow 1.4.1 which is incompatible.\u001b[0m\n",
            "\u001b[31mERROR: imgaug 0.2.9 has requirement numpy>=1.15.0, but you'll have numpy 1.13.3 which is incompatible.\u001b[0m\n",
            "\u001b[31mERROR: googleapis-common-protos 1.6.0 has requirement protobuf>=3.6.0, but you'll have protobuf 3.5.0.post1 which is incompatible.\u001b[0m\n",
            "\u001b[31mERROR: google-colab 1.0.0 has requirement six~=1.12.0, but you'll have six 1.11.0 which is incompatible.\u001b[0m\n",
            "\u001b[31mERROR: google-cloud-bigquery 1.14.0 has requirement protobuf>=3.6.0, but you'll have protobuf 3.5.0.post1 which is incompatible.\u001b[0m\n",
            "\u001b[31mERROR: flask 1.1.1 has requirement Werkzeug>=0.15, but you'll have werkzeug 0.13 which is incompatible.\u001b[0m\n",
            "\u001b[31mERROR: fastai 1.0.57 has requirement numpy>=1.15, but you'll have numpy 1.13.3 which is incompatible.\u001b[0m\n",
            "\u001b[31mERROR: datascience 0.10.6 has requirement folium==0.2.1, but you'll have folium 0.8.3 which is incompatible.\u001b[0m\n",
            "\u001b[31mERROR: cvxpy 1.0.24 has requirement numpy>=1.15, but you'll have numpy 1.13.3 which is incompatible.\u001b[0m\n",
            "\u001b[31mERROR: blis 0.2.4 has requirement numpy>=1.15.0, but you'll have numpy 1.13.3 which is incompatible.\u001b[0m\n",
            "\u001b[31mERROR: albumentations 0.1.12 has requirement imgaug<0.2.7,>=0.2.5, but you'll have imgaug 0.2.9 which is incompatible.\u001b[0m\n",
            "Installing collected packages: six, html5lib, bleach, filelock, numpy, protobuf, chainer, fastrlock, cupy, enum34, h5py, Markdown, pytz, python-dateutil, pyparsing, matplotlib, olefile, Werkzeug, tensorflow-tensorboard, tensorflow, tqdm, APScheduler, Mako, python-editor, alembic, chainerui\n",
            "  Found existing installation: six 1.12.0\n",
            "    Uninstalling six-1.12.0:\n",
            "      Successfully uninstalled six-1.12.0\n",
            "  Found existing installation: html5lib 1.0.1\n",
            "    Uninstalling html5lib-1.0.1:\n",
            "      Successfully uninstalled html5lib-1.0.1\n",
            "  Found existing installation: bleach 3.1.0\n",
            "    Uninstalling bleach-3.1.0:\n",
            "      Successfully uninstalled bleach-3.1.0\n",
            "  Found existing installation: filelock 3.0.12\n",
            "    Uninstalling filelock-3.0.12:\n",
            "      Successfully uninstalled filelock-3.0.12\n",
            "  Found existing installation: numpy 1.16.4\n",
            "    Uninstalling numpy-1.16.4:\n",
            "      Successfully uninstalled numpy-1.16.4\n",
            "  Found existing installation: protobuf 3.7.1\n",
            "    Uninstalling protobuf-3.7.1:\n",
            "      Successfully uninstalled protobuf-3.7.1\n",
            "  Found existing installation: chainer 5.4.0\n",
            "    Uninstalling chainer-5.4.0:\n",
            "      Successfully uninstalled chainer-5.4.0\n",
            "  Found existing installation: fastrlock 0.4\n",
            "    Uninstalling fastrlock-0.4:\n",
            "      Successfully uninstalled fastrlock-0.4\n",
            "  Found existing installation: h5py 2.8.0\n",
            "    Uninstalling h5py-2.8.0:\n",
            "      Successfully uninstalled h5py-2.8.0\n",
            "  Found existing installation: Markdown 3.1.1\n",
            "    Uninstalling Markdown-3.1.1:\n",
            "      Successfully uninstalled Markdown-3.1.1\n",
            "  Found existing installation: pytz 2018.9\n",
            "    Uninstalling pytz-2018.9:\n",
            "      Successfully uninstalled pytz-2018.9\n",
            "  Found existing installation: python-dateutil 2.5.3\n",
            "    Uninstalling python-dateutil-2.5.3:\n",
            "      Successfully uninstalled python-dateutil-2.5.3\n",
            "  Found existing installation: pyparsing 2.4.2\n",
            "    Uninstalling pyparsing-2.4.2:\n",
            "      Successfully uninstalled pyparsing-2.4.2\n",
            "  Found existing installation: matplotlib 3.0.3\n",
            "    Uninstalling matplotlib-3.0.3:\n",
            "      Successfully uninstalled matplotlib-3.0.3\n",
            "  Found existing installation: olefile 0.46\n",
            "    Uninstalling olefile-0.46:\n",
            "      Successfully uninstalled olefile-0.46\n",
            "  Found existing installation: Werkzeug 0.15.5\n",
            "    Uninstalling Werkzeug-0.15.5:\n",
            "      Successfully uninstalled Werkzeug-0.15.5\n",
            "  Found existing installation: tensorflow 1.14.0\n",
            "    Uninstalling tensorflow-1.14.0:\n",
            "      Successfully uninstalled tensorflow-1.14.0\n",
            "  Found existing installation: tqdm 4.28.1\n",
            "    Uninstalling tqdm-4.28.1:\n",
            "      Successfully uninstalled tqdm-4.28.1\n",
            "Successfully installed APScheduler-3.6.1 Mako-1.1.0 Markdown-2.6.10 Werkzeug-0.13 alembic-1.1.0 bleach-1.5.0 chainer-3.2.0 chainerui-0.3.0 cupy-2.2.0 enum34-1.1.6 fastrlock-0.3 filelock-2.0.13 h5py-2.7.1 html5lib-0.9999999 matplotlib-2.1.1 numpy-1.13.3 olefile-0.44 protobuf-3.5.0.post1 pyparsing-2.2.0 python-dateutil-2.6.1 python-editor-1.0.4 pytz-2017.3 six-1.11.0 tensorflow-1.4.1 tensorflow-tensorboard-0.4.0rc3 tqdm-4.19.5\n"
          ],
          "name": "stdout"
        },
        {
          "output_type": "display_data",
          "data": {
            "application/vnd.colab-display-data+json": {
              "pip_warning": {
                "packages": [
                  "dateutil",
                  "enum",
                  "google",
                  "matplotlib",
                  "mpl_toolkits",
                  "numpy",
                  "pyparsing",
                  "pytz",
                  "six",
                  "tqdm"
                ]
              }
            }
          },
          "metadata": {
            "tags": []
          }
        }
      ]
    },
    {
      "cell_type": "code",
      "metadata": {
        "id": "a8JpA0chsuD_",
        "colab_type": "code",
        "colab": {}
      },
      "source": [
        "!mkdir text_recognition_model"
      ],
      "execution_count": 0,
      "outputs": []
    },
    {
      "cell_type": "code",
      "metadata": {
        "id": "mSmKTPtLtAeb",
        "colab_type": "code",
        "colab": {
          "base_uri": "https://localhost:8080/",
          "height": 34
        },
        "outputId": "18d82dbe-c4ef-4744-d140-908cedf2d7e9"
      },
      "source": [
        "%cd text_recognition_model"
      ],
      "execution_count": 6,
      "outputs": [
        {
          "output_type": "stream",
          "text": [
            "/content/see/text_recognition_model\n"
          ],
          "name": "stdout"
        }
      ]
    },
    {
      "cell_type": "code",
      "metadata": {
        "id": "ranNdCo9tJfx",
        "colab_type": "code",
        "colab": {}
      },
      "source": [
        "!mkdir small_dataset"
      ],
      "execution_count": 0,
      "outputs": []
    },
    {
      "cell_type": "code",
      "metadata": {
        "id": "UanC0xhmtNnp",
        "colab_type": "code",
        "colab": {}
      },
      "source": [
        "!mkdir model"
      ],
      "execution_count": 0,
      "outputs": []
    },
    {
      "cell_type": "code",
      "metadata": {
        "id": "2rYMfvxltO3U",
        "colab_type": "code",
        "colab": {
          "base_uri": "https://localhost:8080/",
          "height": 34
        },
        "outputId": "164ae879-b7c3-448c-bd06-e2f6b91d4331"
      },
      "source": [
        "%cd small_dataset"
      ],
      "execution_count": 9,
      "outputs": [
        {
          "output_type": "stream",
          "text": [
            "/content/see/text_recognition_model/small_dataset\n"
          ],
          "name": "stdout"
        }
      ]
    },
    {
      "cell_type": "code",
      "metadata": {
        "id": "IPTbacIStcjp",
        "colab_type": "code",
        "colab": {
          "base_uri": "https://localhost:8080/",
          "height": 80
        },
        "outputId": "5fd524cb-57e4-4bdc-997b-89ad4854f01f"
      },
      "source": [
        "!ls"
      ],
      "execution_count": 3,
      "outputs": [
        {
          "output_type": "stream",
          "text": [
            "chainer   Dockerfile  README.md\t\ttext_recognition_model\n",
            "datasets  LICENSE     requirements.txt\tutils\n"
          ],
          "name": "stdout"
        }
      ]
    },
    {
      "cell_type": "code",
      "metadata": {
        "id": "5YBQNCA1tdSS",
        "colab_type": "code",
        "colab": {
          "base_uri": "https://localhost:8080/",
          "height": 34
        },
        "outputId": "2ad237a9-e1c7-457d-9a19-cfebb0ace87b"
      },
      "source": [
        "%cd text_recognition_model"
      ],
      "execution_count": 4,
      "outputs": [
        {
          "output_type": "stream",
          "text": [
            "/content/see/text_recognition_model\n"
          ],
          "name": "stdout"
        }
      ]
    },
    {
      "cell_type": "code",
      "metadata": {
        "id": "5zyj2EBEue8U",
        "colab_type": "code",
        "colab": {
          "base_uri": "https://localhost:8080/",
          "height": 46
        },
        "outputId": "2b570584-8373-4798-f595-69591c7f2bed"
      },
      "source": [
        "!ls"
      ],
      "execution_count": 5,
      "outputs": [
        {
          "output_type": "stream",
          "text": [
            "model  small_dataset\n"
          ],
          "name": "stdout"
        }
      ]
    },
    {
      "cell_type": "code",
      "metadata": {
        "id": "ojn07-0zuhbT",
        "colab_type": "code",
        "colab": {
          "base_uri": "https://localhost:8080/",
          "height": 34
        },
        "outputId": "8ce44041-c88e-4f4d-b125-36257f8b8f8c"
      },
      "source": [
        "%cd model"
      ],
      "execution_count": 6,
      "outputs": [
        {
          "output_type": "stream",
          "text": [
            "/content/see/text_recognition_model/model\n"
          ],
          "name": "stdout"
        }
      ]
    },
    {
      "cell_type": "code",
      "metadata": {
        "id": "dbP8KKAsujiq",
        "colab_type": "code",
        "colab": {}
      },
      "source": [
        ""
      ],
      "execution_count": 0,
      "outputs": []
    },
    {
      "cell_type": "code",
      "metadata": {
        "id": "o4v1Xb4XulBs",
        "colab_type": "code",
        "colab": {
          "base_uri": "https://localhost:8080/",
          "height": 63
        },
        "outputId": "a8974980-250a-4394-a5e9-0483f76be451"
      },
      "source": [
        "!pwd"
      ],
      "execution_count": 10,
      "outputs": [
        {
          "output_type": "stream",
          "text": [
            "/content/see/text_recognition_model/model\n"
          ],
          "name": "stdout"
        }
      ]
    },
    {
      "cell_type": "code",
      "metadata": {
        "id": "uYWanqajKm6u",
        "colab_type": "code",
        "colab": {
          "base_uri": "https://localhost:8080/",
          "height": 34
        },
        "outputId": "81b9e30f-11ab-44ce-bcb0-5b4e3fa96287"
      },
      "source": [
        "%cd .."
      ],
      "execution_count": 11,
      "outputs": [
        {
          "output_type": "stream",
          "text": [
            "/content/see/text_recognition_model\n"
          ],
          "name": "stdout"
        }
      ]
    },
    {
      "cell_type": "code",
      "metadata": {
        "id": "z75g8JqSMY-9",
        "colab_type": "code",
        "colab": {
          "base_uri": "https://localhost:8080/",
          "height": 46
        },
        "outputId": "6bc2bf7c-b14c-406a-d79b-166da5072dd5"
      },
      "source": [
        "!pwd"
      ],
      "execution_count": 17,
      "outputs": [
        {
          "output_type": "stream",
          "text": [
            "/content/see/text_recognition_model\n"
          ],
          "name": "stdout"
        }
      ]
    },
    {
      "cell_type": "code",
      "metadata": {
        "id": "RuF1yIJSTtUx",
        "colab_type": "code",
        "colab": {
          "base_uri": "https://localhost:8080/",
          "height": 34
        },
        "outputId": "6bb8b974-7c94-434c-edfb-d19feb7f4a44"
      },
      "source": [
        "%cd .."
      ],
      "execution_count": 18,
      "outputs": [
        {
          "output_type": "stream",
          "text": [
            "/content/see\n"
          ],
          "name": "stdout"
        }
      ]
    },
    {
      "cell_type": "code",
      "metadata": {
        "id": "9UfuABSAT1R0",
        "colab_type": "code",
        "colab": {
          "base_uri": "https://localhost:8080/",
          "height": 119
        },
        "outputId": "3791fb32-8afa-414d-9136-0cf51d5bc9ad"
      },
      "source": [
        "!git clone https://github.com/sidvenkat1988/Text_Recognition.git"
      ],
      "execution_count": 20,
      "outputs": [
        {
          "output_type": "stream",
          "text": [
            "Cloning into 'Text_Recognition'...\n",
            "remote: Enumerating objects: 808, done.\u001b[K\n",
            "remote: Counting objects: 100% (808/808), done.\u001b[K\n",
            "remote: Compressing objects: 100% (808/808), done.\u001b[K\n",
            "remote: Total 808 (delta 0), reused 808 (delta 0), pack-reused 0\u001b[K\n",
            "Receiving objects: 100% (808/808), 9.99 MiB | 5.88 MiB/s, done.\n"
          ],
          "name": "stdout"
        }
      ]
    },
    {
      "cell_type": "code",
      "metadata": {
        "id": "2rOELDerT7hA",
        "colab_type": "code",
        "colab": {
          "base_uri": "https://localhost:8080/",
          "height": 80
        },
        "outputId": "764a7bd4-a851-4e34-d03f-8eee0ebb7d0d"
      },
      "source": [
        "!ls"
      ],
      "execution_count": 21,
      "outputs": [
        {
          "output_type": "stream",
          "text": [
            "chainer   Dockerfile  README.md\t\tText_Recognition\tutils\n",
            "datasets  LICENSE     requirements.txt\ttext_recognition_model\n"
          ],
          "name": "stdout"
        }
      ]
    },
    {
      "cell_type": "code",
      "metadata": {
        "id": "OiU5AKXFT_xw",
        "colab_type": "code",
        "colab": {
          "base_uri": "https://localhost:8080/",
          "height": 34
        },
        "outputId": "9bffbfa4-d015-4523-8bba-ebf0db0adaee"
      },
      "source": [
        "%cd Text_Recognition"
      ],
      "execution_count": 22,
      "outputs": [
        {
          "output_type": "stream",
          "text": [
            "/content/see/Text_Recognition\n"
          ],
          "name": "stdout"
        }
      ]
    },
    {
      "cell_type": "code",
      "metadata": {
        "id": "Qd1HFC2aUDpM",
        "colab_type": "code",
        "colab": {
          "base_uri": "https://localhost:8080/",
          "height": 1000
        },
        "outputId": "685710ec-b3ed-4419-febf-728c9dd05443"
      },
      "source": [
        "!python /content/see/chainer/text_recognition_demo.py /content/see/Text_Recognition/model model_190000.npz /content/see/Text_Recognition/small_dataset/9999/9999000_OVEREXTENDING_-2_EkMukta-Regular.jpeg /content/see/datasets/textrec/ctc_char_map.json"
      ],
      "execution_count": 27,
      "outputs": [
        {
          "output_type": "stream",
          "text": [
            "OrderedDict([('overextending',\n",
            "              [OrderedDict([('top_left',\n",
            "                             (1.1445581912994385, 8.243036270141602)),\n",
            "                            ('bottom_right',\n",
            "                             (30.138629913330078, 51.952606201171875))]),\n",
            "               OrderedDict([('top_left',\n",
            "                             (16.71084213256836, 8.824722290039062)),\n",
            "                            ('bottom_right',\n",
            "                             (46.014549255371094, 53.33199691772461))]),\n",
            "               OrderedDict([('top_left',\n",
            "                             (30.899858474731445, 10.474100112915039)),\n",
            "                            ('bottom_right',\n",
            "                             (59.320594787597656, 55.08497619628906))]),\n",
            "               OrderedDict([('top_left',\n",
            "                             (44.89857482910156, 11.894449234008789)),\n",
            "                            ('bottom_right',\n",
            "                             (75.15129089355469, 56.81340026855469))]),\n",
            "               OrderedDict([('top_left',\n",
            "                             (59.70185852050781, 12.698980331420898)),\n",
            "                            ('bottom_right',\n",
            "                             (91.11449432373047, 57.52190399169922))]),\n",
            "               OrderedDict([('top_left',\n",
            "                             (73.67135620117188, 13.102916717529297)),\n",
            "                            ('bottom_right',\n",
            "                             (105.09955596923828, 58.031593322753906))]),\n",
            "               OrderedDict([('top_left',\n",
            "                             (87.41737365722656, 12.936441421508789)),\n",
            "                            ('bottom_right',\n",
            "                             (120.46434020996094, 59.09648132324219))]),\n",
            "               OrderedDict([('top_left',\n",
            "                             (101.48429870605469, 13.782135009765625)),\n",
            "                            ('bottom_right',\n",
            "                             (136.5437774658203, 59.64704895019531))]),\n",
            "               OrderedDict([('top_left',\n",
            "                             (116.41094970703125, 14.723217010498047)),\n",
            "                            ('bottom_right',\n",
            "                             (151.8860321044922, 60.30072021484375))]),\n",
            "               OrderedDict([('top_left',\n",
            "                             (131.40255737304688, 15.34109878540039)),\n",
            "                            ('bottom_right',\n",
            "                             (167.53526306152344, 60.45076370239258))]),\n",
            "               OrderedDict([('top_left',\n",
            "                             (145.61509704589844, 15.544816970825195)),\n",
            "                            ('bottom_right',\n",
            "                             (183.60897827148438, 60.92106628417969))]),\n",
            "               OrderedDict([('top_left',\n",
            "                             (160.81455993652344, 16.654682159423828)),\n",
            "                            ('bottom_right',\n",
            "                             (198.2701416015625, 61.92499923706055))]),\n",
            "               OrderedDict([('top_left',\n",
            "                             (173.80335998535156, 18.26254653930664)),\n",
            "                            ('bottom_right', (200.0, 62.31100082397461))]),\n",
            "               OrderedDict([('top_left',\n",
            "                             (183.84063720703125, 19.902990341186523)),\n",
            "                            ('bottom_right', (200.0, 62.239356994628906))]),\n",
            "               OrderedDict([('top_left',\n",
            "                             (190.88302612304688, 21.455415725708008)),\n",
            "                            ('bottom_right', (200.0, 62.25457000732422))]),\n",
            "               OrderedDict([('top_left', (195.6313018798828, 22.7292537689209)),\n",
            "                            ('bottom_right', (200.0, 62.35462188720703))]),\n",
            "               OrderedDict([('top_left',\n",
            "                             (198.75164794921875, 23.751747131347656)),\n",
            "                            ('bottom_right', (200.0, 62.52097702026367))]),\n",
            "               OrderedDict([('top_left', (200.0, 25.412403106689453)),\n",
            "                            ('bottom_right', (200.0, 63.445064544677734))]),\n",
            "               OrderedDict([('top_left', (200.0, 28.553804397583008)),\n",
            "                            ('bottom_right', (200.0, 64.0))]),\n",
            "               OrderedDict([('top_left', (200.0, 30.820159912109375)),\n",
            "                            ('bottom_right', (200.0, 64.0))]),\n",
            "               OrderedDict([('top_left', (200.0, 32.35724639892578)),\n",
            "                            ('bottom_right', (200.0, 64.0))]),\n",
            "               OrderedDict([('top_left', (200.0, 33.36659240722656)),\n",
            "                            ('bottom_right', (200.0, 64.0))]),\n",
            "               OrderedDict([('top_left', (200.0, 34.00028991699219)),\n",
            "                            ('bottom_right', (200.0, 64.0))])])])\n"
          ],
          "name": "stdout"
        }
      ]
    },
    {
      "cell_type": "code",
      "metadata": {
        "id": "j46YOrqRVA8N",
        "colab_type": "code",
        "colab": {
          "base_uri": "https://localhost:8080/",
          "height": 119
        },
        "outputId": "6101b41a-b164-49d7-ced8-5ed36f96c81c"
      },
      "source": [
        "!git clone https://kalai:!@bitbucket.genie-enterprise.com/scm/~kalai/new.git"
      ],
      "execution_count": 28,
      "outputs": [
        {
          "output_type": "stream",
          "text": [
            "Cloning into 'new'...\n",
            "remote: Counting objects: 365, done.\u001b[K\n",
            "remote: Compressing objects: 100% (362/362), done.\u001b[K\n",
            "remote: Total 365 (delta 3), reused 365 (delta 3)\u001b[K\n",
            "Receiving objects: 100% (365/365), 1.51 MiB | 1.06 MiB/s, done.\n",
            "Resolving deltas: 100% (3/3), done.\n"
          ],
          "name": "stdout"
        }
      ]
    },
    {
      "cell_type": "code",
      "metadata": {
        "id": "BvioZKsxXTs4",
        "colab_type": "code",
        "colab": {
          "base_uri": "https://localhost:8080/",
          "height": 46
        },
        "outputId": "a13fe25a-4e3a-4f2b-bbb4-09b04d90df75"
      },
      "source": [
        "!ls"
      ],
      "execution_count": 29,
      "outputs": [
        {
          "output_type": "stream",
          "text": [
            "model  new  small_dataset\n"
          ],
          "name": "stdout"
        }
      ]
    },
    {
      "cell_type": "code",
      "metadata": {
        "id": "yw_EKdmJXY9e",
        "colab_type": "code",
        "colab": {
          "base_uri": "https://localhost:8080/",
          "height": 34
        },
        "outputId": "006a1923-97b3-4539-bb54-cb2afb481e5a"
      },
      "source": [
        "%cd new"
      ],
      "execution_count": 30,
      "outputs": [
        {
          "output_type": "stream",
          "text": [
            "/content/see/Text_Recognition/new\n"
          ],
          "name": "stdout"
        }
      ]
    },
    {
      "cell_type": "code",
      "metadata": {
        "id": "scUhRcpsXdyj",
        "colab_type": "code",
        "colab": {
          "base_uri": "https://localhost:8080/",
          "height": 1000
        },
        "outputId": "a320f39d-b1bd-4bd2-cde8-0589658297e9"
      },
      "source": [
        "!ls"
      ],
      "execution_count": 31,
      "outputs": [
        {
          "output_type": "stream",
          "text": [
            "fertilizer10_1.jpg   fertilizer21_9.jpg   fertilizer3_1.jpg\n",
            "fertilizer10_2.jpg   fertilizer2_1.jpg\t  fertilizer32_1.jpg\n",
            "fertilizer10_3.jpg   fertilizer22_10.jpg  fertilizer32_2.jpg\n",
            "fertilizer10_4.jpg   fertilizer22_11.jpg  fertilizer32_3.jpg\n",
            "fertilizer10_5.jpg   fertilizer22_1.jpg   fertilizer32_4.jpg\n",
            "fertilizer10_6.jpg   fertilizer22_2.jpg   fertilizer32_5.jpg\n",
            "fertilizer10_7.jpg   fertilizer22_3.jpg   fertilizer32_6.jpg\n",
            "fertilizer10_8.jpg   fertilizer22_4.jpg   fertilizer3_2.jpg\n",
            "fertilizer1_10.jpg   fertilizer22_5.jpg   fertilizer33_10.jpg\n",
            "fertilizer1_11.jpg   fertilizer22_6.jpg   fertilizer33_11.jpg\n",
            "fertilizer11_1.jpg   fertilizer22_7.jpg   fertilizer33_12.jpg\n",
            "fertilizer1_12.jpg   fertilizer22_8.jpg   fertilizer33_1.jpg\n",
            "fertilizer11_2.jpg   fertilizer22_9.jpg   fertilizer33_2.jpg\n",
            "fertilizer1_13.jpg   fertilizer2_2.jpg\t  fertilizer33_3.jpg\n",
            "fertilizer11_3.jpg   fertilizer23_10.jpg  fertilizer33_4.jpg\n",
            "fertilizer1_14.jpg   fertilizer23_11.jpg  fertilizer33_5.jpg\n",
            "fertilizer11_4.jpg   fertilizer23_1.jpg   fertilizer33_6.jpg\n",
            "fertilizer1_15.jpg   fertilizer23_2.jpg   fertilizer33_7.jpg\n",
            "fertilizer11_5.jpg   fertilizer23_3.jpg   fertilizer33_8.jpg\n",
            "fertilizer1_16.jpg   fertilizer23_4.jpg   fertilizer33_9.jpg\n",
            "fertilizer11_6.jpg   fertilizer23_5.jpg   fertilizer3_3.jpg\n",
            "fertilizer1_17.jpg   fertilizer23_6.jpg   fertilizer34_10.jpg\n",
            "fertilizer11_7.jpg   fertilizer23_7.jpg   fertilizer34_11.jpg\n",
            "fertilizer11_8.jpg   fertilizer23_8.jpg   fertilizer34_12.jpg\n",
            "fertilizer11_9.jpg   fertilizer23_9.jpg   fertilizer34_13.jpg\n",
            "fertilizer1_1.jpg    fertilizer2_3.jpg\t  fertilizer34_14.jpg\n",
            "fertilizer12_10.jpg  fertilizer24_10.jpg  fertilizer34_15.jpg\n",
            "fertilizer12_11.jpg  fertilizer24_11.jpg  fertilizer34_16.jpg\n",
            "fertilizer12_12.jpg  fertilizer24_12.jpg  fertilizer34_17.jpg\n",
            "fertilizer12_13.jpg  fertilizer24_13.jpg  fertilizer34_18.jpg\n",
            "fertilizer12_14.jpg  fertilizer24_14.jpg  fertilizer34_1.jpg\n",
            "fertilizer12_15.jpg  fertilizer24_1.jpg   fertilizer34_2.jpg\n",
            "fertilizer12_16.jpg  fertilizer24_2.jpg   fertilizer34_3.jpg\n",
            "fertilizer12_1.jpg   fertilizer24_3.jpg   fertilizer34_4.jpg\n",
            "fertilizer12_2.jpg   fertilizer24_4.jpg   fertilizer34_5.jpg\n",
            "fertilizer12_3.jpg   fertilizer24_5.jpg   fertilizer34_6.jpg\n",
            "fertilizer12_4.jpg   fertilizer24_6.jpg   fertilizer34_7.jpg\n",
            "fertilizer12_5.jpg   fertilizer24_7.jpg   fertilizer34_8.jpg\n",
            "fertilizer12_6.jpg   fertilizer24_8.jpg   fertilizer34_9.jpg\n",
            "fertilizer12_7.jpg   fertilizer24_9.jpg   fertilizer3_4.jpg\n",
            "fertilizer12_8.jpg   fertilizer2_4.jpg\t  fertilizer35_1.jpg\n",
            "fertilizer12_9.jpg   fertilizer25_10.jpg  fertilizer35_2.jpg\n",
            "fertilizer1_2.jpg    fertilizer25_11.jpg  fertilizer35_3.jpg\n",
            "fertilizer1_3.jpg    fertilizer25_12.jpg  fertilizer35_4.jpg\n",
            "fertilizer14_10.jpg  fertilizer25_1.jpg   fertilizer3_5.jpg\n",
            "fertilizer14_11.jpg  fertilizer25_2.jpg   fertilizer36_10.jpg\n",
            "fertilizer14_1.jpg   fertilizer25_3.jpg   fertilizer36_1.jpg\n",
            "fertilizer14_2.jpg   fertilizer25_4.jpg   fertilizer36_2.jpg\n",
            "fertilizer14_3.jpg   fertilizer25_5.jpg   fertilizer36_3.jpg\n",
            "fertilizer14_4.jpg   fertilizer25_6.jpg   fertilizer36_4.jpg\n",
            "fertilizer14_5.jpg   fertilizer25_7.jpg   fertilizer36_5.jpg\n",
            "fertilizer14_6.jpg   fertilizer25_8.jpg   fertilizer36_6.jpg\n",
            "fertilizer14_7.jpg   fertilizer25_9.jpg   fertilizer36_7.jpg\n",
            "fertilizer14_8.jpg   fertilizer2_5.jpg\t  fertilizer36_8.jpg\n",
            "fertilizer14_9.jpg   fertilizer26_10.jpg  fertilizer36_9.jpg\n",
            "fertilizer1_4.jpg    fertilizer26_11.jpg  fertilizer3_6.jpg\n",
            "fertilizer15_1.jpg   fertilizer26_12.jpg  fertilizer3_7.jpg\n",
            "fertilizer15_2.jpg   fertilizer26_13.jpg  fertilizer38_1.jpg\n",
            "fertilizer15_3.jpg   fertilizer26_14.jpg  fertilizer38_2.jpg\n",
            "fertilizer15_4.jpg   fertilizer26_15.jpg  fertilizer38_3.jpg\n",
            "fertilizer15_5.jpg   fertilizer26_1.jpg   fertilizer38_4.jpg\n",
            "fertilizer15_6.jpg   fertilizer26_2.jpg   fertilizer38_5.jpg\n",
            "fertilizer1_5.jpg    fertilizer26_3.jpg   fertilizer38_6.jpg\n",
            "fertilizer16_1.jpg   fertilizer26_4.jpg   fertilizer38_7.jpg\n",
            "fertilizer16_2.jpg   fertilizer26_5.jpg   fertilizer3_8.jpg\n",
            "fertilizer16_3.jpg   fertilizer26_6.jpg   fertilizer3_9.jpg\n",
            "fertilizer16_4.jpg   fertilizer26_7.jpg   fertilizer4_1.jpg\n",
            "fertilizer16_5.jpg   fertilizer26_8.jpg   fertilizer4_2.jpg\n",
            "fertilizer16_6.jpg   fertilizer26_9.jpg   fertilizer4_3.jpg\n",
            "fertilizer16_7.jpg   fertilizer2_6.jpg\t  fertilizer4_4.jpg\n",
            "fertilizer1_6.jpg    fertilizer27_1.jpg   fertilizer4_5.jpg\n",
            "fertilizer17_1.jpg   fertilizer27_2.jpg   fertilizer4_6.jpg\n",
            "fertilizer17_2.jpg   fertilizer27_3.jpg   fertilizer4_7.jpg\n",
            "fertilizer17_3.jpg   fertilizer27_4.jpg   fertilizer4_8.jpg\n",
            "fertilizer17_4.jpg   fertilizer2_7.jpg\t  fertilizer5_10.jpg\n",
            "fertilizer17_5.jpg   fertilizer28_1.jpg   fertilizer5_11.jpg\n",
            "fertilizer17_6.jpg   fertilizer28_2.jpg   fertilizer5_1.jpg\n",
            "fertilizer17_7.jpg   fertilizer28_3.jpg   fertilizer5_2.jpg\n",
            "fertilizer17_8.jpg   fertilizer28_4.jpg   fertilizer5_3.jpg\n",
            "fertilizer1_7.jpg    fertilizer28_5.jpg   fertilizer5_4.jpg\n",
            "fertilizer18_1.jpg   fertilizer28_6.jpg   fertilizer5_5.jpg\n",
            "fertilizer18_2.jpg   fertilizer2_8.jpg\t  fertilizer5_6.jpg\n",
            "fertilizer18_3.jpg   fertilizer29_10.jpg  fertilizer5_7.jpg\n",
            "fertilizer18_4.jpg   fertilizer29_11.jpg  fertilizer5_8.jpg\n",
            "fertilizer18_5.jpg   fertilizer29_12.jpg  fertilizer5_9.jpg\n",
            "fertilizer1_8.jpg    fertilizer29_13.jpg  fertilizer6_10.jpg\n",
            "fertilizer19_1.jpg   fertilizer29_1.jpg   fertilizer6_11.jpg\n",
            "fertilizer19_2.jpg   fertilizer29_2.jpg   fertilizer6_1.jpg\n",
            "fertilizer19_3.jpg   fertilizer29_3.jpg   fertilizer6_2.jpg\n",
            "fertilizer19_4.jpg   fertilizer29_4.jpg   fertilizer6_3.jpg\n",
            "fertilizer19_5.jpg   fertilizer29_5.jpg   fertilizer6_4.jpg\n",
            "fertilizer19_6.jpg   fertilizer29_6.jpg   fertilizer6_5.jpg\n",
            "fertilizer19_7.jpg   fertilizer29_7.jpg   fertilizer6_6.jpg\n",
            "fertilizer19_8.jpg   fertilizer29_8.jpg   fertilizer6_7.jpg\n",
            "fertilizer1_9.jpg    fertilizer29_9.jpg   fertilizer6_8.jpg\n",
            "fertilizer20_1.jpg   fertilizer2_9.jpg\t  fertilizer6_9.jpg\n",
            "fertilizer20_2.jpg   fertilizer30_1.jpg   fertilizer7_1.jpg\n",
            "fertilizer20_3.jpg   fertilizer30_2.jpg   fertilizer7_2.jpg\n",
            "fertilizer20_4.jpg   fertilizer30_3.jpg   fertilizer7_3.jpg\n",
            "fertilizer20_5.jpg   fertilizer30_4.jpg   fertilizer7_4.jpg\n",
            "fertilizer20_6.jpg   fertilizer30_5.jpg   fertilizer7_5.jpg\n",
            "fertilizer20_7.jpg   fertilizer30_6.jpg   fertilizer7_6.jpg\n",
            "fertilizer20_8.jpg   fertilizer3_10.jpg   fertilizer7_7.jpg\n",
            "fertilizer2_10.jpg   fertilizer31_10.jpg  fertilizer7_8.jpg\n",
            "fertilizer21_10.jpg  fertilizer31_11.jpg  fertilizer7_9.jpg\n",
            "fertilizer21_11.jpg  fertilizer3_11.jpg   fertilizer8_1.jpg\n",
            "fertilizer21_12.jpg  fertilizer31_1.jpg   fertilizer8_2.jpg\n",
            "fertilizer2_11.jpg   fertilizer3_12.jpg   fertilizer8_3.jpg\n",
            "fertilizer21_1.jpg   fertilizer31_2.jpg   fertilizer8_4.jpg\n",
            "fertilizer2_12.jpg   fertilizer3_13.jpg   fertilizer8_5.jpg\n",
            "fertilizer21_2.jpg   fertilizer31_3.jpg   fertilizer8_6.jpg\n",
            "fertilizer2_13.jpg   fertilizer3_14.jpg   fertilizer8_7.jpg\n",
            "fertilizer21_3.jpg   fertilizer31_4.jpg   fertilizer9_1.jpg\n",
            "fertilizer2_14.jpg   fertilizer3_15.jpg   fertilizer9_2.jpg\n",
            "fertilizer21_4.jpg   fertilizer31_5.jpg   fertilizer9_3.jpg\n",
            "fertilizer2_15.jpg   fertilizer3_16.jpg   fertilizer9_4.jpg\n",
            "fertilizer21_5.jpg   fertilizer31_6.jpg   fertilizer9_5.jpg\n",
            "fertilizer2_16.jpg   fertilizer3_17.jpg   fertilizer9_6.jpg\n",
            "fertilizer21_6.jpg   fertilizer31_7.jpg   fertilizer9_7.jpg\n",
            "fertilizer21_7.jpg   fertilizer31_8.jpg   fertilizer9_8.jpg\n",
            "fertilizer21_8.jpg   fertilizer31_9.jpg   fertilizer9_9.jpg\n"
          ],
          "name": "stdout"
        }
      ]
    },
    {
      "cell_type": "code",
      "metadata": {
        "id": "gfT3I5c4XfGb",
        "colab_type": "code",
        "colab": {
          "base_uri": "https://localhost:8080/",
          "height": 986
        },
        "outputId": "d843c0cf-cb5c-4cac-f479-e89306ae6e97"
      },
      "source": [
        "!python /content/see/chainer/text_recognition_demo.py /content/see/Text_Recognition/model model_190000.npz /content/see/Text_Recognition/new/fertilizer19_8.jpg /content/see/datasets/textrec/ctc_char_map.json"
      ],
      "execution_count": 41,
      "outputs": [
        {
          "output_type": "stream",
          "text": [
            "OrderedDict([('rokg',\n",
            "              [OrderedDict([('top_left', (0.0, 7.613548278808594)),\n",
            "                            ('bottom_right',\n",
            "                             (79.83856964111328, 60.427345275878906))]),\n",
            "               OrderedDict([('top_left',\n",
            "                             (41.053314208984375, 6.175506591796875)),\n",
            "                            ('bottom_right',\n",
            "                             (121.87004089355469, 59.385032653808594))]),\n",
            "               OrderedDict([('top_left',\n",
            "                             (80.25031280517578, 7.396427154541016)),\n",
            "                            ('bottom_right',\n",
            "                             (159.58494567871094, 59.701698303222656))]),\n",
            "               OrderedDict([('top_left',\n",
            "                             (116.26531982421875, 8.667545318603516)),\n",
            "                            ('bottom_right',\n",
            "                             (195.60365295410156, 60.9758415222168))]),\n",
            "               OrderedDict([('top_left',\n",
            "                             (146.5366668701172, 11.469955444335938)),\n",
            "                            ('bottom_right', (200.0, 62.31051254272461))]),\n",
            "               OrderedDict([('top_left',\n",
            "                             (168.15065002441406, 14.508533477783203)),\n",
            "                            ('bottom_right', (200.0, 62.31220626831055))]),\n",
            "               OrderedDict([('top_left', (186.259765625, 18.339820861816406)),\n",
            "                            ('bottom_right', (200.0, 63.03923797607422))]),\n",
            "               OrderedDict([('top_left',\n",
            "                             (199.19369506835938, 23.6555118560791)),\n",
            "                            ('bottom_right', (200.0, 64.0))]),\n",
            "               OrderedDict([('top_left', (200.0, 27.301307678222656)),\n",
            "                            ('bottom_right', (200.0, 64.0))]),\n",
            "               OrderedDict([('top_left', (200.0, 29.63818359375)),\n",
            "                            ('bottom_right', (200.0, 64.0))]),\n",
            "               OrderedDict([('top_left', (200.0, 31.13456916809082)),\n",
            "                            ('bottom_right', (200.0, 64.0))]),\n",
            "               OrderedDict([('top_left', (200.0, 32.121490478515625)),\n",
            "                            ('bottom_right', (200.0, 64.0))]),\n",
            "               OrderedDict([('top_left', (200.0, 32.7965087890625)),\n",
            "                            ('bottom_right', (200.0, 64.0))]),\n",
            "               OrderedDict([('top_left', (200.0, 33.273841857910156)),\n",
            "                            ('bottom_right', (200.0, 64.0))]),\n",
            "               OrderedDict([('top_left', (200.0, 33.62080764770508)),\n",
            "                            ('bottom_right', (200.0, 64.0))]),\n",
            "               OrderedDict([('top_left', (200.0, 33.87841796875)),\n",
            "                            ('bottom_right', (200.0, 64.0))]),\n",
            "               OrderedDict([('top_left', (200.0, 34.072776794433594)),\n",
            "                            ('bottom_right', (200.0, 64.0))]),\n",
            "               OrderedDict([('top_left', (200.0, 34.22112274169922)),\n",
            "                            ('bottom_right', (200.0, 64.0))]),\n",
            "               OrderedDict([('top_left', (200.0, 34.3353385925293)),\n",
            "                            ('bottom_right', (200.0, 64.0))]),\n",
            "               OrderedDict([('top_left', (200.0, 34.42384338378906)),\n",
            "                            ('bottom_right', (200.0, 64.0))]),\n",
            "               OrderedDict([('top_left', (200.0, 34.49272918701172)),\n",
            "                            ('bottom_right', (200.0, 64.0))]),\n",
            "               OrderedDict([('top_left', (200.0, 34.546546936035156)),\n",
            "                            ('bottom_right', (200.0, 64.0))]),\n",
            "               OrderedDict([('top_left', (200.0, 34.588706970214844)),\n",
            "                            ('bottom_right', (200.0, 64.0))])])])\n"
          ],
          "name": "stdout"
        }
      ]
    },
    {
      "cell_type": "code",
      "metadata": {
        "id": "PoPt7gBvZ6xA",
        "colab_type": "code",
        "colab": {}
      },
      "source": [
        ""
      ],
      "execution_count": 0,
      "outputs": []
    }
  ]
}